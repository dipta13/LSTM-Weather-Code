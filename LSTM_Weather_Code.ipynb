{
  "nbformat": 4,
  "nbformat_minor": 0,
  "metadata": {
    "colab": {
      "name": "LSTM Weather Code.ipynb",
      "provenance": [],
      "collapsed_sections": [],
      "authorship_tag": "ABX9TyMsuipQ3GfsToKKCSMq1dVq",
      "include_colab_link": true
    },
    "kernelspec": {
      "name": "python3",
      "display_name": "Python 3"
    },
    "language_info": {
      "name": "python"
    }
  },
  "cells": [
    {
      "cell_type": "markdown",
      "metadata": {
        "id": "view-in-github",
        "colab_type": "text"
      },
      "source": [
        "<a href=\"https://colab.research.google.com/github/dipta13/LSTM-Weather-Code/blob/main/LSTM_Weather_Code.ipynb\" target=\"_parent\"><img src=\"https://colab.research.google.com/assets/colab-badge.svg\" alt=\"Open In Colab\"/></a>"
      ]
    },
    {
      "cell_type": "code",
      "metadata": {
        "colab": {
          "base_uri": "https://localhost:8080/"
        },
        "id": "Co91jLbfDj0a",
        "outputId": "d69ece0d-bc8b-445f-99d2-008a71f38b38"
      },
      "source": [
        "from google.colab import drive\n",
        "\n",
        "drive.mount('/content/gdrive')"
      ],
      "execution_count": 1,
      "outputs": [
        {
          "output_type": "stream",
          "name": "stdout",
          "text": [
            "Mounted at /content/gdrive\n"
          ]
        }
      ]
    },
    {
      "cell_type": "code",
      "metadata": {
        "colab": {
          "base_uri": "https://localhost:8080/"
        },
        "id": "kZRIeD32RD4y",
        "outputId": "6a73cc18-9175-44a7-b252-838f90a208ef"
      },
      "source": [
        "cd gdrive/"
      ],
      "execution_count": 2,
      "outputs": [
        {
          "output_type": "stream",
          "name": "stdout",
          "text": [
            "/content/gdrive\n"
          ]
        }
      ]
    },
    {
      "cell_type": "code",
      "metadata": {
        "colab": {
          "base_uri": "https://localhost:8080/"
        },
        "id": "oAu-A4eBRbGL",
        "outputId": "d35bde04-fe9d-4377-c971-a1631539b8ad"
      },
      "source": [
        "cd MyDrive/"
      ],
      "execution_count": 3,
      "outputs": [
        {
          "output_type": "stream",
          "name": "stdout",
          "text": [
            "/content/gdrive/MyDrive\n"
          ]
        }
      ]
    },
    {
      "cell_type": "code",
      "metadata": {
        "colab": {
          "base_uri": "https://localhost:8080/"
        },
        "id": "7DrAzKF_RfKp",
        "outputId": "1fa0fcca-bbf6-40f8-b581-ac60f9965a97"
      },
      "source": [
        "cd Alibaba\\ Cloud\\ AI\\ Challange"
      ],
      "execution_count": 4,
      "outputs": [
        {
          "output_type": "stream",
          "name": "stdout",
          "text": [
            "/content/gdrive/My Drive/Alibaba Cloud AI Challange\n"
          ]
        }
      ]
    },
    {
      "cell_type": "code",
      "metadata": {
        "colab": {
          "base_uri": "https://localhost:8080/"
        },
        "id": "YmDQCEf7RiZ4",
        "outputId": "736ad4f1-12ee-43b7-dab9-070d6207a20e"
      },
      "source": [
        "ls"
      ],
      "execution_count": 5,
      "outputs": [
        {
          "output_type": "stream",
          "name": "stdout",
          "text": [
            "rainfall.csv\n"
          ]
        }
      ]
    },
    {
      "cell_type": "code",
      "metadata": {
        "id": "Lb5zewMCRlfw"
      },
      "source": [
        "# Core Keras libraries\n",
        "#\n",
        "from keras.models import Sequential\n",
        "from keras.layers import Dense\n",
        "from keras.layers import LSTM\n",
        "from keras.layers import Bidirectional\n",
        " \n",
        "#\n",
        "# For data conditioning\n",
        "#\n",
        "from scipy.ndimage import gaussian_filter1d\n",
        "from scipy.signal import medfilt\n",
        "\n",
        "#\n",
        "# Make results reproducible\n",
        "#\n",
        "from numpy.random import seed\n",
        "seed(1)\n",
        "import tensorflow\n",
        "tensorflow.random.set_seed(1)"
      ],
      "execution_count": 9,
      "outputs": []
    },
    {
      "cell_type": "code",
      "metadata": {
        "id": "6oVcyxY_Tedk"
      },
      "source": [
        "# Other essential libraries\n",
        "#\n",
        "import matplotlib.pyplot as plt\n",
        "import pandas as pd\n",
        "from sklearn.preprocessing import MinMaxScaler\n",
        "from sklearn.metrics import mean_squared_error\n",
        "from sklearn.metrics import r2_score\n",
        "from numpy import array\n",
        "\n",
        "# Make our plot a bit formal\n",
        "font = {'family' : 'Arial',\n",
        "        'weight' : 'normal',\n",
        "        'size'   : 10}\n",
        "plt.rc('font', **font)"
      ],
      "execution_count": 10,
      "outputs": []
    },
    {
      "cell_type": "code",
      "metadata": {
        "id": "DztbZIAXTnjY"
      },
      "source": [
        "#\n",
        "# Set input number of timestamps and training days\n",
        "#\n",
        "n_timestamp = 10\n",
        "train_days = 1500  # number of days to train from\n",
        "testing_days = 500 # number of days to be predicted\n",
        "n_epochs = 25\n",
        "filter_on = 1\n",
        "\n",
        "\n",
        "#\n",
        "# For Select model type\n",
        "# 1: Single cell\n",
        "# 2: Stacked\n",
        "# 3: Bidirectional\n",
        "#\n",
        "model_type = 2"
      ],
      "execution_count": 11,
      "outputs": []
    },
    {
      "cell_type": "code",
      "metadata": {
        "colab": {
          "base_uri": "https://localhost:8080/",
          "height": 419
        },
        "id": "wpXudE5sUsTR",
        "outputId": "5cfa955a-8a7c-495c-f089-f2cb69feb1d9"
      },
      "source": [
        "DATA_DIR = 'rainfall.csv'\n",
        "dataset = pd.read_csv(DATA_DIR)\n",
        "rainfall_df = dataset[['rainfall']]\n",
        "rainfall_df"
      ],
      "execution_count": 27,
      "outputs": [
        {
          "output_type": "execute_result",
          "data": {
            "text/html": [
              "<div>\n",
              "<style scoped>\n",
              "    .dataframe tbody tr th:only-of-type {\n",
              "        vertical-align: middle;\n",
              "    }\n",
              "\n",
              "    .dataframe tbody tr th {\n",
              "        vertical-align: top;\n",
              "    }\n",
              "\n",
              "    .dataframe thead th {\n",
              "        text-align: right;\n",
              "    }\n",
              "</style>\n",
              "<table border=\"1\" class=\"dataframe\">\n",
              "  <thead>\n",
              "    <tr style=\"text-align: right;\">\n",
              "      <th></th>\n",
              "      <th>rainfall</th>\n",
              "    </tr>\n",
              "  </thead>\n",
              "  <tbody>\n",
              "    <tr>\n",
              "      <th>0</th>\n",
              "      <td>2.9</td>\n",
              "    </tr>\n",
              "    <tr>\n",
              "      <th>1</th>\n",
              "      <td>10.2</td>\n",
              "    </tr>\n",
              "    <tr>\n",
              "      <th>2</th>\n",
              "      <td>0.9</td>\n",
              "    </tr>\n",
              "    <tr>\n",
              "      <th>3</th>\n",
              "      <td>48.6</td>\n",
              "    </tr>\n",
              "    <tr>\n",
              "      <th>4</th>\n",
              "      <td>9.6</td>\n",
              "    </tr>\n",
              "    <tr>\n",
              "      <th>...</th>\n",
              "      <td>...</td>\n",
              "    </tr>\n",
              "    <tr>\n",
              "      <th>3769</th>\n",
              "      <td>0.0</td>\n",
              "    </tr>\n",
              "    <tr>\n",
              "      <th>3770</th>\n",
              "      <td>8.4</td>\n",
              "    </tr>\n",
              "    <tr>\n",
              "      <th>3771</th>\n",
              "      <td>5.4</td>\n",
              "    </tr>\n",
              "    <tr>\n",
              "      <th>3772</th>\n",
              "      <td>3.2</td>\n",
              "    </tr>\n",
              "    <tr>\n",
              "      <th>3773</th>\n",
              "      <td>5.2</td>\n",
              "    </tr>\n",
              "  </tbody>\n",
              "</table>\n",
              "<p>3774 rows × 1 columns</p>\n",
              "</div>"
            ],
            "text/plain": [
              "      rainfall\n",
              "0          2.9\n",
              "1         10.2\n",
              "2          0.9\n",
              "3         48.6\n",
              "4          9.6\n",
              "...        ...\n",
              "3769       0.0\n",
              "3770       8.4\n",
              "3771       5.4\n",
              "3772       3.2\n",
              "3773       5.2\n",
              "\n",
              "[3774 rows x 1 columns]"
            ]
          },
          "metadata": {},
          "execution_count": 27
        }
      ]
    },
    {
      "cell_type": "code",
      "metadata": {
        "id": "3K9RqhWWU-26"
      },
      "source": [
        "if filter_on == 1:\n",
        "    dataset['rainfall'] = medfilt(dataset['rainfall'], 3)\n",
        "    dataset['rainfall'] = gaussian_filter1d(dataset['rainfall'], 1.2)"
      ],
      "execution_count": 28,
      "outputs": []
    },
    {
      "cell_type": "code",
      "metadata": {
        "id": "S3OKG7-3VXsS"
      },
      "source": [
        "#\n",
        "# Set number of training and testing data\n",
        "# \n",
        "train_set = dataset[0:train_days].reset_index(drop=True)\n",
        "test_set = dataset[train_days: train_days+testing_days].reset_index(drop=True)\n",
        "training_set = train_set.iloc[:, 1:2].values\n",
        "testing_set = test_set.iloc[:, 1:2].values\n",
        "\n",
        "\n",
        "#\n",
        "# Normalize data first\n",
        "#\n",
        "sc = MinMaxScaler(feature_range = (0, 1))\n",
        "training_set_scaled = sc.fit_transform(training_set)\n",
        "testing_set_scaled = sc.fit_transform(testing_set)\n"
      ],
      "execution_count": 29,
      "outputs": []
    },
    {
      "cell_type": "code",
      "metadata": {
        "id": "5HHAicE-VfFC"
      },
      "source": [
        "#\n",
        "# Split data into n_timestamp\n",
        "#\n",
        "def data_split(sequence, n_timestamp):\n",
        "    X = []\n",
        "    y = []\n",
        "    for i in range(len(sequence)):\n",
        "        end_ix = i + n_timestamp\n",
        "        if end_ix > len(sequence)-1:\n",
        "            break\n",
        "        # i to end_ix as input\n",
        "        # end_ix as target output\n",
        "        seq_x, seq_y = sequence[i:end_ix], sequence[end_ix]\n",
        "        X.append(seq_x)\n",
        "        y.append(seq_y)\n",
        "    return array(X), array(y)\n",
        "\n",
        "\n",
        "X_train, y_train = data_split(training_set_scaled, n_timestamp)\n",
        "X_train = X_train.reshape(X_train.shape[0], X_train.shape[1], 1)\n",
        "X_test, y_test = data_split(testing_set_scaled, n_timestamp)\n",
        "X_test = X_test.reshape(X_test.shape[0], X_test.shape[1], 1)\n",
        "\n",
        "\n",
        "\n",
        "if model_type == 2:\n",
        "    # Stacked LSTM\n",
        "    model = Sequential()\n",
        "    model.add(LSTM(50, activation='relu', return_sequences=True, input_shape=(X_train.shape[1], 1)))\n",
        "    model.add(LSTM(50, activation='relu'))\n",
        "    model.add(Dense(1))"
      ],
      "execution_count": 30,
      "outputs": []
    },
    {
      "cell_type": "code",
      "metadata": {
        "colab": {
          "base_uri": "https://localhost:8080/"
        },
        "id": "9TkKrbKwVmZN",
        "outputId": "6ae989dd-9209-4640-e4ca-3128feef067f"
      },
      "source": [
        "#\n",
        "# Start training\n",
        "#\n",
        "model.compile(optimizer = 'adam', loss = 'mean_squared_error')\n",
        "history = model.fit(X_train, y_train, epochs = n_epochs, batch_size = 32)\n",
        "loss = history.history['loss']\n",
        "epochs = range(len(loss))"
      ],
      "execution_count": 31,
      "outputs": [
        {
          "output_type": "stream",
          "name": "stdout",
          "text": [
            "Epoch 1/25\n",
            "47/47 [==============================] - 3s 11ms/step - loss: 0.0130\n",
            "Epoch 2/25\n",
            "47/47 [==============================] - 1s 13ms/step - loss: 0.0112\n",
            "Epoch 3/25\n",
            "47/47 [==============================] - 1s 12ms/step - loss: 0.0097\n",
            "Epoch 4/25\n",
            "47/47 [==============================] - 1s 12ms/step - loss: 0.0086\n",
            "Epoch 5/25\n",
            "47/47 [==============================] - 1s 13ms/step - loss: 0.0076\n",
            "Epoch 6/25\n",
            "47/47 [==============================] - 1s 12ms/step - loss: 0.0061\n",
            "Epoch 7/25\n",
            "47/47 [==============================] - 1s 12ms/step - loss: 0.0037\n",
            "Epoch 8/25\n",
            "47/47 [==============================] - 1s 12ms/step - loss: 0.0020\n",
            "Epoch 9/25\n",
            "47/47 [==============================] - 1s 12ms/step - loss: 0.0014\n",
            "Epoch 10/25\n",
            "47/47 [==============================] - 1s 12ms/step - loss: 0.0011\n",
            "Epoch 11/25\n",
            "47/47 [==============================] - 1s 12ms/step - loss: 0.0011\n",
            "Epoch 12/25\n",
            "47/47 [==============================] - 1s 12ms/step - loss: 6.4316e-04\n",
            "Epoch 13/25\n",
            "47/47 [==============================] - 1s 12ms/step - loss: 5.1351e-04\n",
            "Epoch 14/25\n",
            "47/47 [==============================] - 1s 12ms/step - loss: 4.1309e-04\n",
            "Epoch 15/25\n",
            "47/47 [==============================] - 1s 12ms/step - loss: 4.1109e-04\n",
            "Epoch 16/25\n",
            "47/47 [==============================] - 1s 12ms/step - loss: 4.7627e-04\n",
            "Epoch 17/25\n",
            "47/47 [==============================] - 1s 12ms/step - loss: 3.7522e-04\n",
            "Epoch 18/25\n",
            "47/47 [==============================] - 1s 12ms/step - loss: 5.4883e-04\n",
            "Epoch 19/25\n",
            "47/47 [==============================] - 1s 12ms/step - loss: 3.3063e-04\n",
            "Epoch 20/25\n",
            "47/47 [==============================] - 1s 12ms/step - loss: 3.8715e-04\n",
            "Epoch 21/25\n",
            "47/47 [==============================] - 1s 12ms/step - loss: 3.1568e-04\n",
            "Epoch 22/25\n",
            "47/47 [==============================] - 1s 12ms/step - loss: 3.1974e-04\n",
            "Epoch 23/25\n",
            "47/47 [==============================] - 1s 13ms/step - loss: 2.3797e-04\n",
            "Epoch 24/25\n",
            "47/47 [==============================] - 1s 11ms/step - loss: 2.6276e-04\n",
            "Epoch 25/25\n",
            "47/47 [==============================] - 1s 13ms/step - loss: 3.4709e-04\n"
          ]
        }
      ]
    },
    {
      "cell_type": "code",
      "metadata": {
        "id": "R63xU9MjV20X"
      },
      "source": [
        "#\n",
        "# Get predicted data\n",
        "#\n",
        "y_predicted = model.predict(X_test)\n",
        "\n",
        "#\n",
        "# 'De-normalize' the data\n",
        "#\n",
        "y_predicted_descaled = sc.inverse_transform(y_predicted)\n",
        "y_train_descaled = sc.inverse_transform(y_train)\n",
        "y_test_descaled = sc.inverse_transform(y_test)\n",
        "y_pred = y_predicted.ravel()\n",
        "y_pred = [round(yx, 2) for yx in y_pred]\n",
        "y_tested = y_test.ravel()"
      ],
      "execution_count": 32,
      "outputs": []
    },
    {
      "cell_type": "code",
      "metadata": {
        "colab": {
          "base_uri": "https://localhost:8080/",
          "height": 492
        },
        "id": "wAAKnkGrV7Nn",
        "outputId": "c3cf0c9d-ca29-4955-a9d4-c78d5768877b"
      },
      "source": [
        "#\n",
        "# Show results\n",
        "#\n",
        "plt.figure(figsize=(8,7))\n",
        "\n",
        "plt.subplot(3, 1, 1)\n",
        "plt.plot(dataset['rainfall'], color = 'black', linewidth=1, label = 'True value')\n",
        "plt.ylabel(\"rainfall\\n(precipitation level)\")\n",
        "plt.xlabel(\"Day\")\n",
        "plt.title(\"All data\")\n",
        "\n",
        "\n",
        "plt.subplot(3, 2, 3)\n",
        "plt.plot(y_test_descaled, color = 'black', linewidth=1, label = 'True value')\n",
        "plt.plot(y_predicted_descaled, color = 'red',  linewidth=1, label = 'Predicted')\n",
        "plt.legend(frameon=False)\n",
        "plt.ylabel(\"rainfall\\n(precipitation level)\")\n",
        "plt.xlabel(\"Day\")\n",
        "plt.title(\"Predicted data (n days)\")\n",
        "\n",
        "plt.subplot(3, 2, 4)\n",
        "plt.plot(y_test_descaled[0:75], color = 'black', linewidth=1, label = 'True value')\n",
        "plt.plot(y_predicted_descaled[0:75], color = 'red', label = 'Predicted')\n",
        "plt.legend(frameon=False)\n",
        "plt.ylabel(\"rainfall\\n(precipitation level)\")\n",
        "plt.xlabel(\"Day\")\n",
        "plt.title(\"Predicted data (first 75 days)\")\n",
        "\n",
        "plt.subplot(3, 3, 7)\n",
        "plt.plot(epochs, loss, color='black')\n",
        "plt.ylabel(\"Loss (MSE)\")\n",
        "plt.xlabel(\"Epoch\")\n",
        "plt.title(\"Training curve\")\n",
        "\n",
        "plt.subplot(3, 3, 8)\n",
        "plt.plot(y_test_descaled-y_predicted_descaled, color='black')\n",
        "plt.ylabel(\"Residual\")\n",
        "plt.xlabel(\"Day\")\n",
        "plt.title(\"Residual plot\")\n",
        "\n",
        "plt.subplot(3, 3, 9)\n",
        "plt.scatter(y_predicted_descaled, y_test_descaled, s=2, color='black')\n",
        "plt.ylabel(\"Y true\")\n",
        "plt.xlabel(\"Y predicted\")\n",
        "plt.title(\"Scatter plot\")\n",
        "\n",
        "plt.subplots_adjust(hspace = 0.5, wspace=0.3)\n",
        "plt.show()\n",
        "\n",
        "\n",
        "mse = mean_squared_error(y_test_descaled, y_predicted_descaled)\n",
        "r2 = r2_score(y_test_descaled, y_predicted_descaled)\n",
        "print(\"mse=\" + str(round(mse,2)))\n",
        "print(\"r2=\" + str(round(r2,2)))"
      ],
      "execution_count": 33,
      "outputs": [
        {
          "output_type": "display_data",
          "data": {
            "image/png": "[encoded data removed]",
            "text/plain": [
              "<Figure size 576x504 with 6 Axes>"
            ]
          },
          "metadata": {
            "needs_background": "light"
          }
        },
        {
          "output_type": "stream",
          "name": "stdout",
          "text": [
            "mse=0.81\n",
            "r2=0.98\n"
          ]
        }
      ]
    }
  ]
}